{
  "nbformat": 4,
  "nbformat_minor": 0,
  "metadata": {
    "colab": {
      "name": "tutorial-02.ipynb",
      "provenance": [],
      "collapsed_sections": [],
      "include_colab_link": true
    },
    "kernelspec": {
      "name": "python3",
      "display_name": "Python 3"
    },
    "language_info": {
      "name": "python"
    }
  },
  "cells": [
    {
      "cell_type": "markdown",
      "metadata": {
        "id": "view-in-github",
        "colab_type": "text"
      },
      "source": [
        "<a href=\"https://colab.research.google.com/github/natalia-alzate/Recursos-segunda-previa/blob/main/tutorial_02.ipynb\" target=\"_parent\"><img src=\"https://colab.research.google.com/assets/colab-badge.svg\" alt=\"Open In Colab\"/></a>"
      ]
    },
    {
      "cell_type": "markdown",
      "metadata": {
        "id": "45wMHWyWgnDW"
      },
      "source": [
        "## Python - Tutorial 02"
      ]
    },
    {
      "cell_type": "markdown",
      "metadata": {
        "id": "CT6XuWPhhB4h"
      },
      "source": [
        "### Booleanos (lógicos) y condicionales\n",
        "\n",
        "Un booleano es un tipo de dato específico que solo puede tener uno de dos valores posibles: Verdadero o\n",
        "Falso. Otra forma de pensar en un booleano es considerarlo activado o desactivado. Para asignar un booleano a una variable utilice: nombre_variable = booleano, donde booleano es Verdadero o Falso. No utilice comillas alrededor de Verdadero o Falso. Recuerde, las comillas solo deben usarse para cadenas."
      ]
    },
    {
      "cell_type": "code",
      "metadata": {
        "colab": {
          "base_uri": "https://localhost:8080/"
        },
        "id": "mehTqwoBhUi8",
        "outputId": "4661b06f-60e9-4fbf-8e4f-2fa9404e353b"
      },
      "source": [
        "# Supóngase que el día es soleado. Entonces, no será lluvioso. Esto se puede\n",
        "# representar del siguiente modo\n",
        "\n",
        "soleado = True      # Tenga presente que la T es mayúscula\n",
        "lluvioso = False    # Tenga presente que la F es mayúscula\n",
        "\n",
        "print(soleado)\n",
        "print(lluvioso)"
      ],
      "execution_count": null,
      "outputs": [
        {
          "output_type": "stream",
          "name": "stdout",
          "text": [
            "True\n",
            "False\n"
          ]
        }
      ]
    },
    {
      "cell_type": "markdown",
      "metadata": {
        "id": "GIi6h_cgh7a-"
      },
      "source": [
        "## Comparaciones\n",
        "\n",
        "Los dato se pueden comparar entre sí. El resultado de las comparaciones se puede realizar de las siguientes maneras:\n",
        "\n",
        "- Igual a: ==\n",
        "- Mayor que: >\n",
        "- Menor que: <\n",
        "- Mayor o iqual que: >=\n",
        "- Menor o igual que: <=\n",
        "- Diferente: !=\n",
        "\n",
        "En los siguientes ejemplos veremos como aplicar estos operadores de comparación"
      ]
    },
    {
      "cell_type": "code",
      "metadata": {
        "colab": {
          "base_uri": "https://localhost:8080/"
        },
        "id": "9Cxa2FdQiqV0",
        "outputId": "c6eb8446-f6a3-4e31-ebc4-26ea32f84454"
      },
      "source": [
        "# Operadores de comparación\n",
        "\n",
        "print(1 == 1)       # True\n",
        "print(1 == 2)       # False\n",
        "print(2 > 1)        # True\n",
        "print(7 > 9)        # False\n",
        "print(1 < 2)        # True\n",
        "print(5 < 2)        # False\n",
        "print(1 >= 0)       # True\n",
        "print(1 >= 1)       # True\n",
        "print(5 <= 5)       # True\n",
        "print(4 != 4)       # False\n",
        "print(4 != 9)       # True"
      ],
      "execution_count": null,
      "outputs": [
        {
          "output_type": "stream",
          "name": "stdout",
          "text": [
            "True\n",
            "False\n",
            "True\n",
            "False\n",
            "True\n",
            "False\n",
            "True\n",
            "True\n",
            "True\n",
            "False\n",
            "True\n"
          ]
        }
      ]
    },
    {
      "cell_type": "markdown",
      "metadata": {
        "id": "NpDNAQTejaXi"
      },
      "source": [
        "### Operadores Booleanos\n",
        "\n",
        "Tenga en cuenta que la lógica booleana se usa ampliamente en el campo de la programación de computadoras. Existen\n",
        "sólo tres operadores booleanos: and, or y not. Cada una de ellas se puede utilizar para comparar dos\n",
        "condiciones o negar una condición dada. Al igual que los comparadores, darán como resultado un valor booleano.\n",
        "\n",
        "Los operadores booleanos se interpretan de la siguiente manera:\n",
        "\n",
        "- and: Devuelve verdadero si los operandos que recibe son ambos verdaderos. En caso contrario, devuelve falso\n",
        "- or: Devuelve verdadero si uno cualquiera de los operando es verdadero. Si los operandos son todos falsos, devuelve falso\n",
        "- not: Devuelve el valor opuesto al operando que recibe. Si recibe verdadero, devuelve falso. Si recibe falso, devuelve verdadero"
      ]
    },
    {
      "cell_type": "code",
      "metadata": {
        "colab": {
          "base_uri": "https://localhost:8080/"
        },
        "id": "u_v02lgRksLi",
        "outputId": "c69a2a3c-0f6d-4758-c435-11619936899b"
      },
      "source": [
        "# Operador Booleando AND\n",
        "\n",
        "# Comparaciones de referencia\n",
        "\n",
        "print(7 > 4)  # Devuelve verdadero\n",
        "print(5 > 1)  # Devuelve verdadero\n",
        "\n",
        "print( 7 > 4 and 5 > 1 )  # Devuelve verdadero, pues ambos operandos son verdaderos\n",
        "\n"
      ],
      "execution_count": null,
      "outputs": [
        {
          "output_type": "stream",
          "name": "stdout",
          "text": [
            "True\n",
            "True\n",
            "True\n"
          ]
        }
      ]
    },
    {
      "cell_type": "code",
      "metadata": {
        "colab": {
          "base_uri": "https://localhost:8080/"
        },
        "id": "kT-u15CClW9C",
        "outputId": "bfab5e72-6cff-4e52-a991-786e6e429a8d"
      },
      "source": [
        "# Otro ejemplo de operador booleano AND\n",
        "\n",
        "print(7 > 4)    # Devuelve verdadero\n",
        "print(5 > 9)    # Devuelve falso\n",
        "\n",
        "print( 7 > 4 and 5 > 9 )  # Devuelve falso, pues el segundo operando es falso"
      ],
      "execution_count": null,
      "outputs": [
        {
          "output_type": "stream",
          "name": "stdout",
          "text": [
            "True\n",
            "False\n",
            "False\n"
          ]
        }
      ]
    },
    {
      "cell_type": "code",
      "metadata": {
        "id": "ohcAF-1wmAQj"
      },
      "source": [
        ""
      ],
      "execution_count": null,
      "outputs": []
    },
    {
      "cell_type": "code",
      "metadata": {
        "colab": {
          "base_uri": "https://localhost:8080/"
        },
        "id": "YnoasgLhgiJn",
        "outputId": "0e57fe8a-0d92-4f9b-9428-dea2bae62c0d"
      },
      "source": [
        "# Ejemplo de operador OR\n",
        "\n",
        "print(7 > 4)    # Devuelve verdadero\n",
        "print(3 > 7)    # Devuelve falso\n",
        "\n",
        "print( 7 > 4 or 3 > 7 )   # Devuelve verdadero pues el primer operando es verdadero"
      ],
      "execution_count": null,
      "outputs": [
        {
          "output_type": "stream",
          "name": "stdout",
          "text": [
            "True\n",
            "False\n",
            "True\n"
          ]
        }
      ]
    },
    {
      "cell_type": "code",
      "metadata": {
        "colab": {
          "base_uri": "https://localhost:8080/"
        },
        "id": "ABLo3271mB4w",
        "outputId": "b1287775-0050-4876-b79e-ddad213aa361"
      },
      "source": [
        "# Otro ejemplo de operador OR\n",
        "\n",
        "print(7 > 9)    # Devuelve falso\n",
        "print(3 > 5)    # Devuelve falso\n",
        "\n",
        "print( 7 > 9 or 3 > 5 )   # Devuelve falso pues ningún operando es verdadero"
      ],
      "execution_count": null,
      "outputs": [
        {
          "output_type": "stream",
          "name": "stdout",
          "text": [
            "False\n",
            "False\n",
            "False\n"
          ]
        }
      ]
    },
    {
      "cell_type": "code",
      "metadata": {
        "colab": {
          "base_uri": "https://localhost:8080/"
        },
        "id": "hgjEdt7MmOLA",
        "outputId": "38a3280a-c21f-4f08-865f-c4919a34a8b0"
      },
      "source": [
        "# Operador NOT\n",
        "\n",
        "print(7 > 3)    # Devuelve verdadero\n",
        "print(5 > 9)    # Devuelve falso\n",
        "\n",
        "print( not (7 > 3) )    # Devuelve falso\n",
        "print( not (5 > 9) )    # Devuelve verdadero"
      ],
      "execution_count": null,
      "outputs": [
        {
          "output_type": "stream",
          "name": "stdout",
          "text": [
            "True\n",
            "False\n",
            "False\n",
            "True\n"
          ]
        }
      ]
    },
    {
      "cell_type": "markdown",
      "metadata": {
        "id": "BZotrUb-mzCb"
      },
      "source": [
        "### Orden de los operadores\n",
        "\n",
        "Cuando se ejecutan operaciones lógicas, el orden es el siguiente:\n",
        "\n",
        "1. Primero se realizan las operaciones not\n",
        "2. En segundo lugar se realizan las operaciones and\n",
        "3. Por último, se realizan las operaciones or"
      ]
    },
    {
      "cell_type": "markdown",
      "metadata": {
        "id": "WQsCIDdBnTaj"
      },
      "source": [
        "### Condicionales. Instrucción if\n",
        "\n",
        "La instrucción if evalua una expresión booleana y si el resultado es Verdadero, el código asociado con ella será\n",
        "ejecutado. Veamos el siguiente ejemplo para ver como funciona"
      ]
    },
    {
      "cell_type": "code",
      "metadata": {
        "colab": {
          "base_uri": "https://localhost:8080/"
        },
        "id": "92udKSiDnnCp",
        "outputId": "71f7de89-6916-4c8a-93eb-41ada53e136d"
      },
      "source": [
        "# Condicional\n",
        "\n",
        "if 43 < 44:\n",
        "  print(\"43 es menor que 44\")"
      ],
      "execution_count": null,
      "outputs": [
        {
          "output_type": "stream",
          "name": "stdout",
          "text": [
            "43 es menor que 44\n"
          ]
        }
      ]
    },
    {
      "cell_type": "markdown",
      "metadata": {
        "id": "NoQiQGB1n2UP"
      },
      "source": [
        "## Explicación:\n",
        "\n",
        "La instrucción if espera una comparación a la derecha. Python evalúa dicha comparación, y en caso de ser verdadera, ejecuta las instrucciones que se encuentran inmediatamente debajo, con dos condiciones:\n",
        "\n",
        "1. Al final de la comparación, se debe escribir dos puntos (:)\n",
        "2. La instrucción a ser ejecutada (o instrucciones, pueden ser varias) se deben encontrar debajo de los dos puntos, pero identadas (es decir, escritas hacia la derecha)"
      ]
    },
    {
      "cell_type": "code",
      "metadata": {
        "colab": {
          "base_uri": "https://localhost:8080/"
        },
        "id": "1_MCzJkKosG8",
        "outputId": "cffea20f-93b4-4907-c7cf-42d2ea90afc7"
      },
      "source": [
        "# Instrucciones después del if\n",
        "\n",
        "edad = 32\n",
        "if edad > 45:\n",
        "  print(\"Usted tiene edad para ser presidente\") # Con el valor asignado a edad, no se ejecutará esta instrucción\n",
        "\n",
        "print(\"final del programa\")"
      ],
      "execution_count": null,
      "outputs": [
        {
          "output_type": "stream",
          "name": "stdout",
          "text": [
            "final del programa\n"
          ]
        }
      ]
    },
    {
      "cell_type": "markdown",
      "metadata": {
        "id": "z84z88f_pVJx"
      },
      "source": [
        "## Instrucción if ... else\n",
        "\n",
        "Puesto que una condición puede ser verdadera o falsa, tiene mucho sentido que el condicional contenga instrucciones para el caso verdadero, e instrucciones para el caso falso.\n",
        "\n",
        "Las instrucciones para cuando no se cumple la condición se colocan debajo de 'else' (de lo contrario). Veamos un ejemplo:"
      ]
    },
    {
      "cell_type": "code",
      "metadata": {
        "colab": {
          "base_uri": "https://localhost:8080/"
        },
        "id": "4yyJEX4tpt3J",
        "outputId": "9879d3aa-626c-440a-8c7e-4c26610386b9"
      },
      "source": [
        "edad = input(\"Cuál es su edad: \")\n",
        "if int(edad) > 45:\n",
        "  print(\"Usted puede ser presidente\")\n",
        "else:\n",
        "  print(\"Usted no tiene la edad para ser presidente\")"
      ],
      "execution_count": null,
      "outputs": [
        {
          "output_type": "stream",
          "name": "stdout",
          "text": [
            "Cuál es su edad: 50\n",
            "Usted puede ser presidente\n"
          ]
        }
      ]
    },
    {
      "cell_type": "markdown",
      "metadata": {
        "id": "DEKYOfyeqMh5"
      },
      "source": [
        "## Instrucción if ... elif ... else\n",
        "\n",
        "Las instrucciones condicionales pueden tener ciclos anidados. La instrucción elif permite realizar la combinación: \"de lo contrario, si tal condición, entonces...\"\n",
        "\n",
        "Veamos un ejemplo que busca el mayor de tres números:"
      ]
    },
    {
      "cell_type": "code",
      "metadata": {
        "colab": {
          "base_uri": "https://localhost:8080/"
        },
        "id": "SC-Mv0AgqhrZ",
        "outputId": "f1af8fbe-a612-4039-e84d-be281d8ce086"
      },
      "source": [
        "a = 10\n",
        "b = 5\n",
        "c = 14\n",
        "\n",
        "if a > b:\n",
        "  if a > c:\n",
        "    print(\"Mayor = \" + str(a))\n",
        "  elif b > c:\n",
        "    print(\"Mayor = \" + str(b))\n",
        "  else:\n",
        "    print(c)\n",
        "\n",
        "# NOTA: Modifique los valores de a, b, c y observe el funcionamiento del programa"
      ],
      "execution_count": null,
      "outputs": [
        {
          "output_type": "stream",
          "name": "stdout",
          "text": [
            "Mayor = 30\n"
          ]
        }
      ]
    }
  ]
}